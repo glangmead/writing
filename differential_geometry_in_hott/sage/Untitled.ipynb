{
 "cells": [
  {
   "cell_type": "code",
   "execution_count": 11,
   "id": "1a4a0648-217d-463c-9847-4c3e3522b84c",
   "metadata": {},
   "outputs": [
    {
     "ename": "AttributeError",
     "evalue": "'ParametrizedSurface3D' object has no attribute 'triangulate'",
     "output_type": "error",
     "traceback": [
      "\u001b[0;31m---------------------------------------------------------------------------\u001b[0m",
      "\u001b[0;31mAttributeError\u001b[0m                            Traceback (most recent call last)",
      "Cell \u001b[0;32mIn[11], line 5\u001b[0m\n\u001b[1;32m      3\u001b[0m torus \u001b[38;5;241m=\u001b[39m surfaces\u001b[38;5;241m.\u001b[39mTorus(r\u001b[38;5;241m=\u001b[39mr, R\u001b[38;5;241m=\u001b[39mR);\n\u001b[1;32m      4\u001b[0m torus\u001b[38;5;241m.\u001b[39mplot(color\u001b[38;5;241m=\u001b[39m\u001b[38;5;124m\"\u001b[39m\u001b[38;5;124mgray\u001b[39m\u001b[38;5;124m\"\u001b[39m, opacity\u001b[38;5;241m=\u001b[39mRealNumber(\u001b[38;5;124m'\u001b[39m\u001b[38;5;124m0.5\u001b[39m\u001b[38;5;124m'\u001b[39m))\n\u001b[0;32m----> 5\u001b[0m \u001b[43mtorus\u001b[49m\u001b[38;5;241;43m.\u001b[39;49m\u001b[43mtriangulate\u001b[49m()\n",
      "\u001b[0;31mAttributeError\u001b[0m: 'ParametrizedSurface3D' object has no attribute 'triangulate'"
     ]
    }
   ],
   "source": [
    "r=.5\n",
    "R=6\n",
    "torus = surfaces.Torus(r=r, R=R);\n",
    "torus.plot(color=\"gray\", opacity=0.5)\n",
    "torus.triangulate()\n"
   ]
  },
  {
   "cell_type": "code",
   "execution_count": 14,
   "id": "8d251ff7-abd7-41f0-9bb2-9ed08a4fb685",
   "metadata": {},
   "outputs": [
    {
     "name": "stdout",
     "output_type": "stream",
     "text": [
      "verbose 0 (3945: plot.py, generate_plot_points) WARNING: When plotting, failed to evaluate function at 200 points.\n",
      "verbose 0 (3945: plot.py, generate_plot_points) Last error message: 'Unable to compute f(1.0)'\n"
     ]
    },
    {
     "data": {
      "image/png": "[encoded data removed]",
      "text/plain": [
       "Graphics object consisting of 0 graphics primitives"
      ]
     },
     "execution_count": 14,
     "metadata": {},
     "output_type": "execute_result"
    }
   ],
   "source": []
  },
  {
   "cell_type": "code",
   "execution_count": null,
   "id": "d4836a7b-4be7-4b7a-bb0d-8be4690cfe6b",
   "metadata": {},
   "outputs": [],
   "source": []
  }
 ],
 "metadata": {
  "kernelspec": {
   "display_name": "SageMath 10.3",
   "language": "sage",
   "name": "sagemath-10.3"
  },
  "language_info": {
   "codemirror_mode": {
    "name": "ipython",
    "version": 3
   },
   "file_extension": ".py",
   "mimetype": "text/x-python",
   "name": "python",
   "nbconvert_exporter": "python",
   "pygments_lexer": "ipython3",
   "version": "3.11.8"
  }
 },
 "nbformat": 4,
 "nbformat_minor": 5
}
